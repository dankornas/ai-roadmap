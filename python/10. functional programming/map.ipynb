{
 "cells": [
  {
   "cell_type": "markdown",
   "metadata": {},
   "source": [
    "# Map Function in Python\n",
    "\n",
    "The map() function applies a specified function to each item of an iterable (e.g., list, tuple) and returns a map object (an iterator) of the results. This makes it very useful for performing operations on data structures efficiently."
   ]
  },
  {
   "cell_type": "markdown",
   "metadata": {},
   "source": [
    "### Basic Syntax of `map()`\n",
    "\n",
    "The basic syntax of the `map()` function is:\n",
    "\n",
    "```python\n",
    "map(function, iterable, ...)\n",
    "```\n",
    "\n",
    "* **function**: the function to apply to each item in the iterable.\n",
    "* **iterable**: the iterable whose items are to be processed."
   ]
  },
  {
   "cell_type": "markdown",
   "metadata": {},
   "source": [
    "#### Example: Converting Temperatures\n",
    "\n",
    "Suppose you have a list of temperatures in Celsius and you want to convert them to Fahrenheit. You can use map() to do this:"
   ]
  },
  {
   "cell_type": "code",
   "execution_count": null,
   "metadata": {},
   "outputs": [],
   "source": [
    "def convert_to_fahrenheit(celsius):\n",
    "    return (celsius * 9/5) + 32\n",
    "\n",
    "temperatures_celsius = [0, 10, 20, 30, 40]\n",
    "temperatures_fahrenheit = map(convert_to_fahrenheit, temperatures_celsius)\n",
    "\n",
    "# Convert map object to list to display the results\n",
    "print(list(temperatures_fahrenheit))\n",
    "\n",
    "### Output ###\n",
    "# [32.0, 50.0, 68.0, 86.0, 104.0]\n"
   ]
  },
  {
   "cell_type": "markdown",
   "metadata": {},
   "source": [
    "### Using Lambda Functions with `map()`\n",
    "\n",
    "`map()` is often used with lambda functions because it allows the function to be defined inline:"
   ]
  },
  {
   "cell_type": "code",
   "execution_count": 1,
   "metadata": {},
   "outputs": [
    {
     "name": "stdout",
     "output_type": "stream",
     "text": [
      "[32.0, 50.0, 68.0, 86.0, 104.0]\n"
     ]
    }
   ],
   "source": [
    "# Convert Celsius to Fahrenheit using a lambda function\n",
    "temperatures_celsius = [0, 10, 20, 30, 40]\n",
    "temperatures_fahrenheit = map(lambda c: (c * 9/5) + 32, temperatures_celsius)\n",
    "\n",
    "print(list(temperatures_fahrenheit))\n",
    "\n",
    "### Output ###\n",
    "# [32.0, 50.0, 68.0, 86.0, 104.0]\n",
    "\n"
   ]
  },
  {
   "cell_type": "markdown",
   "metadata": {},
   "source": [
    "### Mapping Over Multiple Iterables\n",
    "\n",
    "The `map()` function can take more than one iterable. The iterables are passed to the function in parallel. With multiple iterables, the function must accept that many arguments."
   ]
  },
  {
   "cell_type": "code",
   "execution_count": 2,
   "metadata": {},
   "outputs": [
    {
     "name": "stdout",
     "output_type": "stream",
     "text": [
      "[7, 9, 11, 13, 15]\n"
     ]
    }
   ],
   "source": [
    "numbers1 = [1, 2, 3, 4, 5]\n",
    "numbers2 = [6, 7, 8, 9, 10]\n",
    "\n",
    "results = map(lambda x, y: x + y, numbers1, numbers2)\n",
    "print(list(results))\n",
    "\n",
    "### Output ###\n",
    "# [7, 9, 11, 13, 15]"
   ]
  },
  {
   "cell_type": "markdown",
   "metadata": {},
   "source": [
    "### Practical Uses of `map()`\n",
    "\n",
    "`map()` can be used in data processing for transforming data efficiently. For instance, extracting information from a list of dictionaries:"
   ]
  },
  {
   "cell_type": "code",
   "execution_count": 4,
   "metadata": {},
   "outputs": [
    {
     "name": "stdout",
     "output_type": "stream",
     "text": [
      "[28, 22, 32]\n"
     ]
    }
   ],
   "source": [
    "people = [\n",
    "    {\"name\": \"John\", \"age\": 28},\n",
    "    {\"name\": \"Marie\", \"age\": 22},\n",
    "    {\"name\": \"Anne\", \"age\": 32}\n",
    "]\n",
    "\n",
    "ages = map(lambda person: person[\"age\"], people)\n",
    "print(list(ages))\n",
    "\n",
    "### Output ###\n",
    "# [28, 22, 32]"
   ]
  },
  {
   "cell_type": "markdown",
   "metadata": {},
   "source": [
    "### When to Use `map()` Over List Comprehensions\n",
    "\n",
    "While `map()` and list comprehensions can often be used interchangeably, `map()` can be more readable when applying a single-function operation over an iterable. However, list comprehensions offer more flexibility and are often preferred for their Pythonic style, especially when the transformation logic is complex."
   ]
  }
 ],
 "metadata": {
  "kernelspec": {
   "display_name": "Python 3",
   "language": "python",
   "name": "python3"
  },
  "language_info": {
   "codemirror_mode": {
    "name": "ipython",
    "version": 3
   },
   "file_extension": ".py",
   "mimetype": "text/x-python",
   "name": "python",
   "nbconvert_exporter": "python",
   "pygments_lexer": "ipython3",
   "version": "3.11.2"
  }
 },
 "nbformat": 4,
 "nbformat_minor": 2
}
