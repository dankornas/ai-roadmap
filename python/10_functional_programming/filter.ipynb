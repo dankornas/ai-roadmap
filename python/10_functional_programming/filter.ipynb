{
 "cells": [
  {
   "cell_type": "markdown",
   "metadata": {},
   "source": [
    "# Python Filter function\n",
    "\n",
    "The `filter()` function constructs an iterator from elements of an iterable for which a function returns true. Essentially, it filters out the elements in an iterable based on a condition.\n"
   ]
  },
  {
   "cell_type": "markdown",
   "metadata": {},
   "source": [
    "### Basic Syntax of `filter()`\n",
    "\n",
    "The syntax for `filter()` is quite simple:\n",
    "\n",
    "```python\n",
    "filter(function, iterable)\n",
    "```\n",
    "\n",
    "* **function**: a function that tests if elements of an iterable return true or false. If `None`, it simply returns the elements of the iterable that are true.\n",
    "* **iterable**: the iterable whose elements are tested by the function."
   ]
  },
  {
   "cell_type": "markdown",
   "metadata": {},
   "source": [
    "### Example: Filtering Even Numbers\n",
    "\n",
    "Let's start with a basic example where we filter out all the even numbers from a list:"
   ]
  },
  {
   "cell_type": "code",
   "execution_count": 1,
   "metadata": {},
   "outputs": [
    {
     "name": "stdout",
     "output_type": "stream",
     "text": [
      "[2, 4, 6, 8, 10]\n"
     ]
    }
   ],
   "source": [
    "def is_even(num):\n",
    "    return num % 2 == 0\n",
    "\n",
    "numbers = [1, 2, 3, 4, 5, 6, 7, 8, 9, 10]\n",
    "even_numbers = filter(is_even, numbers)\n",
    "\n",
    "# Convert filter object to list to display the results\n",
    "print(list(even_numbers))"
   ]
  },
  {
   "cell_type": "markdown",
   "metadata": {},
   "source": [
    "### Using Lambda Functions with `filter()`\n",
    "\n",
    "`filter()` is commonly used with lambda functions for more concise code. Here’s how you can use a lambda function to filter even numbers:"
   ]
  },
  {
   "cell_type": "code",
   "execution_count": 2,
   "metadata": {},
   "outputs": [
    {
     "name": "stdout",
     "output_type": "stream",
     "text": [
      "[2, 4, 6, 8, 10]\n"
     ]
    }
   ],
   "source": [
    "numbers = [1, 2, 3, 4, 5, 6, 7, 8, 9, 10]\n",
    "even_numbers = filter(lambda x: x % 2 == 0, numbers)\n",
    "\n",
    "print(list(even_numbers))"
   ]
  },
  {
   "cell_type": "markdown",
   "metadata": {},
   "source": [
    "### Filtering Using `None`\n",
    "\n",
    "If the function argument is `None`, `filter()` will remove elements that are false in a Boolean context (like `0`, `False`, `None`, empty sequences, etc.):"
   ]
  },
  {
   "cell_type": "code",
   "execution_count": 3,
   "metadata": {},
   "outputs": [
    {
     "name": "stdout",
     "output_type": "stream",
     "text": [
      "['Hello', 24, 'World']\n"
     ]
    }
   ],
   "source": [
    "data = [0, \"Hello\", \"\", False, None, 24, \"World\"]\n",
    "truthy_values = filter(None, data)\n",
    "\n",
    "print(list(truthy_values))"
   ]
  },
  {
   "cell_type": "markdown",
   "metadata": {},
   "source": [
    "### Practical Uses of `filter()`\n",
    "\n",
    "`filter()` is especially useful in scenarios involving data processing where you need to remove unwanted elements. For example, filtering a list of people to find those over a certain age:"
   ]
  },
  {
   "cell_type": "code",
   "execution_count": 4,
   "metadata": {},
   "outputs": [
    {
     "name": "stdout",
     "output_type": "stream",
     "text": [
      "['Anne']\n"
     ]
    }
   ],
   "source": [
    "people = [\n",
    "    {\"name\": \"John\", \"age\": 28},\n",
    "    {\"name\": \"Marie\", \"age\": 22},\n",
    "    {\"name\": \"Anne\", \"age\": 35}\n",
    "]\n",
    "\n",
    "adults = filter(lambda person: person[\"age\"] >= 30, people)\n",
    "adults_names = map(lambda person: person[\"name\"], adults)\n",
    "print(list(adults_names))"
   ]
  },
  {
   "cell_type": "markdown",
   "metadata": {},
   "source": [
    "### When to Use `filter()` Over List Comprehensions\n",
    "\n",
    "While `filter()` can sometimes be replaced by list comprehensions, using `filter()` can lead to cleaner and arguably more readable code when your focus is on filtering elements based on a condition, especially if the condition is non-trivial. List comprehensions offer more flexibility (e.g., allowing transformation and filtering in one go) but can be less clear for simple filtering tasks."
   ]
  }
 ],
 "metadata": {
  "kernelspec": {
   "display_name": "Python 3",
   "language": "python",
   "name": "python3"
  },
  "language_info": {
   "codemirror_mode": {
    "name": "ipython",
    "version": 3
   },
   "file_extension": ".py",
   "mimetype": "text/x-python",
   "name": "python",
   "nbconvert_exporter": "python",
   "pygments_lexer": "ipython3",
   "version": "3.11.2"
  }
 },
 "nbformat": 4,
 "nbformat_minor": 2
}
