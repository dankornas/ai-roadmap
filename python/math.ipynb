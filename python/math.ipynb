{
 "cells": [
  {
   "cell_type": "markdown",
   "metadata": {},
   "source": [
    "<h1> Python Math </h1>\n",
    "\n",
    "In python, you can do all kinds of math operations\n",
    "\n",
    "<h3> Basic Math Operations</h3>"
   ]
  },
  {
   "cell_type": "code",
   "execution_count": 1,
   "metadata": {},
   "outputs": [
    {
     "name": "stdout",
     "output_type": "stream",
     "text": [
      "Addition: 14\n",
      "Subtraction: 6\n",
      "Multiply:  40\n",
      "Division: 2.5\n",
      "Modulus: 2\n",
      "Floor Division: 2\n",
      "Exponent: 10000\n"
     ]
    }
   ],
   "source": [
    "x=10\n",
    "y=4\n",
    "\n",
    "#Addition\n",
    "print(\"Addition:\",x+y)\n",
    "\n",
    "#Subtraction\n",
    "print(\"Subtraction:\",x-y)\n",
    "\n",
    "#Multiply\n",
    "print(\"Multiply: \",x*y)\n",
    "\n",
    "#Division\n",
    "print(\"Division:\",x/y)\n",
    "\n",
    "#Modulus\n",
    "print(\"Modulus:\",x%y)\n",
    "\n",
    "#Floor Division\n",
    "print(\"Floor Division:\",x//y)\n",
    "\n",
    "#Exponent\n",
    "print(\"Exponent:\",x**y)\n"
   ]
  },
  {
   "cell_type": "markdown",
   "metadata": {},
   "source": [
    "<h3> Using common math functions </h3>"
   ]
  },
  {
   "cell_type": "code",
   "execution_count": 3,
   "metadata": {},
   "outputs": [
    {
     "name": "stdout",
     "output_type": "stream",
     "text": [
      "abs(-1)  1\n",
      "max(5, 4)  5\n",
      "min(5, 4)  4\n",
      "pow(2, 2)  4\n"
     ]
    }
   ],
   "source": [
    "# Math Functions\n",
    "\n",
    "# Calculate and print the absolute value of -1\n",
    "print(\"abs(-1) \", abs(-1))\n",
    "\n",
    "# Calculate and print the maximum value between 5 and 4\n",
    "print(\"max(5, 4) \", max(5, 4))\n",
    "\n",
    "# Calculate and print the minimum value between 5 and 4\n",
    "print(\"min(5, 4) \", min(5, 4))\n",
    "\n",
    "# Calculate and print 2 raised to the power of 2\n",
    "print(\"pow(2, 2) \", pow(2, 2))"
   ]
  },
  {
   "cell_type": "markdown",
   "metadata": {},
   "source": [
    "<h3> Using math functions from the math library </h3>"
   ]
  },
  {
   "cell_type": "code",
   "execution_count": 4,
   "metadata": {},
   "outputs": [
    {
     "name": "stdout",
     "output_type": "stream",
     "text": [
      "ceil(4.5)  5\n",
      "floor(4.5)  4\n",
      "round(4.5)  4\n",
      "exp(1)  2.718281828459045\n",
      "log(e)  1.0\n",
      "log(100)  2.0\n",
      "sqrt(100)  10.0\n"
     ]
    }
   ],
   "source": [
    "# Import the math module to access more advanced math functions\n",
    "import math\n",
    "\n",
    "# Calculate and print the smallest integer greater than or equal to 4.5\n",
    "print(\"ceil(4.5) \", math.ceil(4.5))\n",
    "\n",
    "# Calculate and print the largest integer less than or equal to 4.5\n",
    "print(\"floor(4.5) \", math.floor(4.5))\n",
    "\n",
    "# Round the number 4.5 to the nearest integer and print it\n",
    "print(\"round(4.5) \", round(4.5))\n",
    "\n",
    "# Calculate and print the value of e raised to the power of 1\n",
    "print(\"exp(1) \", math.exp(1))  # e**x\n",
    "\n",
    "# Calculate and print the natural logarithm of e**1\n",
    "print(\"log(e) \", math.log(math.exp(1)))\n",
    "\n",
    "# Calculate and print the base 10 logarithm of 100\n",
    "print(\"log(100) \", math.log(100, 10))  # Base 10 Log\n",
    "\n",
    "# Calculate and print the square root of 100\n",
    "print(\"sqrt(100) \", math.sqrt(100))\n"
   ]
  },
  {
   "cell_type": "markdown",
   "metadata": {},
   "source": [
    "<h3> Generating Random Values </h3>\n",
    "\n",
    "To create a danom integer, use the random library."
   ]
  },
  {
   "cell_type": "code",
   "execution_count": 13,
   "metadata": {},
   "outputs": [
    {
     "name": "stdout",
     "output_type": "stream",
     "text": [
      "Generate a random integer:  12\n",
      "Generate a random integer:  32\n",
      "Generate a random integer:  7\n"
     ]
    }
   ],
   "source": [
    "import random\n",
    "\n",
    "# Generate a number between 1 and 50\n",
    "print(\"Generate a random integer: \", random.randint(1, 50))\n",
    "print(\"Generate a random integer: \", random.randint(1, 50))\n",
    "print(\"Generate a random integer: \", random.randint(1, 50))"
   ]
  }
 ],
 "metadata": {
  "kernelspec": {
   "display_name": "Python 3",
   "language": "python",
   "name": "python3"
  },
  "language_info": {
   "codemirror_mode": {
    "name": "ipython",
    "version": 3
   },
   "file_extension": ".py",
   "mimetype": "text/x-python",
   "name": "python",
   "nbconvert_exporter": "python",
   "pygments_lexer": "ipython3",
   "version": "3.11.2"
  }
 },
 "nbformat": 4,
 "nbformat_minor": 2
}
