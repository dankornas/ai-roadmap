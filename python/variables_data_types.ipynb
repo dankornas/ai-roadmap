{
 "cells": [
  {
   "cell_type": "markdown",
   "metadata": {},
   "source": [
    "<h1> Python Variables </h1>"
   ]
  },
  {
   "cell_type": "markdown",
   "metadata": {},
   "source": [
    "<h3> Naming Variable </h3>\n",
    "\n",
    "The simplest way to describe variables is that they are names that are assigned to values. These names can start with either a letter or an underscore, but not a number."
   ]
  },
  {
   "cell_type": "code",
   "execution_count": 3,
   "metadata": {},
   "outputs": [],
   "source": [
    "# correct way to name a variable\n",
    "variableName = 1\n",
    "_variable = 1"
   ]
  },
  {
   "cell_type": "code",
   "execution_count": 4,
   "metadata": {},
   "outputs": [
    {
     "ename": "SyntaxError",
     "evalue": "invalid decimal literal (867056353.py, line 2)",
     "output_type": "error",
     "traceback": [
      "\u001b[1;36m  Cell \u001b[1;32mIn[4], line 2\u001b[1;36m\u001b[0m\n\u001b[1;33m    1variable = 1\u001b[0m\n\u001b[1;37m    ^\u001b[0m\n\u001b[1;31mSyntaxError\u001b[0m\u001b[1;31m:\u001b[0m invalid decimal literal\n"
     ]
    }
   ],
   "source": [
    "# incorrect way to name a variable\n",
    "1variable = 1"
   ]
  },
  {
   "cell_type": "markdown",
   "metadata": {},
   "source": [
    "<h3> Case Sensitive Variables </h3>\n",
    "\n",
    "Variable names are case sensitive, meaning two variables with the same name but one has an uppercase letter will be treated differently than the variable with the lowercase letter."
   ]
  },
  {
   "cell_type": "code",
   "execution_count": 5,
   "metadata": {},
   "outputs": [
    {
     "name": "stdout",
     "output_type": "stream",
     "text": [
      "var : 1\n",
      "VAR : 2\n"
     ]
    }
   ],
   "source": [
    "var = 1\n",
    "print(\"var :\", var)\n",
    "\n",
    "VAR = 2\n",
    "print(\"VAR :\", VAR)"
   ]
  },
  {
   "cell_type": "markdown",
   "metadata": {},
   "source": [
    "<h3> Assign Multiple Variables </h3>\n",
    "\n",
    "You can assign mulitple variables in one line. It's not good practice to do this, but it is possible."
   ]
  },
  {
   "cell_type": "code",
   "execution_count": 6,
   "metadata": {},
   "outputs": [
    {
     "name": "stdout",
     "output_type": "stream",
     "text": [
      "vairable1:  4\n",
      "vairable2:  4\n",
      "vairable3:  4\n"
     ]
    }
   ],
   "source": [
    "variable1 = variable2 = variable3 = 4\n",
    "print(\"vairable1: \", variable1)\n",
    "print(\"vairable2: \", variable2)\n",
    "print(\"vairable3: \", variable3)"
   ]
  },
  {
   "cell_type": "markdown",
   "metadata": {},
   "source": [
    "<h1> Python Data Types </h1>"
   ]
  },
  {
   "cell_type": "markdown",
   "metadata": {},
   "source": [
    "In Python, data is dynamically typed, which means that Python automatically determines the type of a variable (such as integer, float, string, etc.) based on the data you assign to it, without requiring explicit specification. The type of variable can dynaimcally change as you assign different types."
   ]
  },
  {
   "cell_type": "code",
   "execution_count": 10,
   "metadata": {},
   "outputs": [
    {
     "name": "stdout",
     "output_type": "stream",
     "text": [
      "Vairable is of type : <class 'int'>\n",
      "Now, it is of type : <class 'str'>\n"
     ]
    }
   ],
   "source": [
    "variable = 1\n",
    "print(\"Vairable is of type :\", type(variable))\n",
    "\n",
    "variable = \"hello\"\n",
    "print(\"Now, it is of type :\", type(variable))"
   ]
  },
  {
   "cell_type": "markdown",
   "metadata": {},
   "source": [
    "<h3> Basic Data Types in Python </h3>\n",
    "\n",
    "To get the type fo a variable or data type, use `type()`"
   ]
  },
  {
   "cell_type": "code",
   "execution_count": 24,
   "metadata": {},
   "outputs": [
    {
     "name": "stdout",
     "output_type": "stream",
     "text": [
      "integer:  <class 'int'>\n",
      "float:  <class 'float'>\n",
      "complex numbers:  <class 'complex'>\n",
      "boolean:  <class 'bool'>\n",
      "string:  <class 'str'>\n"
     ]
    }
   ],
   "source": [
    "var = 10\n",
    "print(\"integer: \", type(var))\n",
    "\n",
    "var = 1.5\n",
    "print(\"float: \", type(var))\n",
    "\n",
    "var = 10 + 5j\n",
    "print(\"complex numbers: \", type(var))\n",
    "\n",
    "var = True\n",
    "print(\"boolean: \", type(var))\n",
    "\n",
    "var = \"Hello\"\n",
    "print(\"string: \", type(var))"
   ]
  },
  {
   "cell_type": "markdown",
   "metadata": {},
   "source": [
    "<h3> Creating Strings </h3>\n",
    "To create strings, you can use single quotes ' ' or double quotes \" \" <br>\n",
    "\n",
    "Strings in programming languages support escape sequences, which enable the inclusion of special characters like single quotes, tabs, backslashes, new lines, and more, within the string literals.\n",
    "\n",
    "For example, quotes are used to begin and end a string. If you want to include quotes within your string, you would use an escape sequence like \\\" to ensure the quotes appear within your string and are not interpreted as the end of the string."
   ]
  },
  {
   "cell_type": "code",
   "execution_count": 22,
   "metadata": {},
   "outputs": [
    {
     "name": "stdout",
     "output_type": "stream",
     "text": [
      "Escape sequences ' \" \t \\\n"
     ]
    }
   ],
   "source": [
    "special_string = \"Escape sequences \\' \\\" \\t \\\\\"\n",
    "print(special_string)"
   ]
  },
  {
   "cell_type": "markdown",
   "metadata": {},
   "source": [
    "To avoid using escape sequences, you can use triple quotes `'''`.\n"
   ]
  },
  {
   "cell_type": "code",
   "execution_count": 23,
   "metadata": {},
   "outputs": [
    {
     "name": "stdout",
     "output_type": "stream",
     "text": [
      "Using Triple quotes to do this -> \" ' \"\n"
     ]
    }
   ],
   "source": [
    "new_string = '''Using Triple quotes to do this -> \" ' \"'''\n",
    "print(new_string)"
   ]
  },
  {
   "cell_type": "markdown",
   "metadata": {},
   "source": [
    "<p align=\"center\">\n",
    "  <img src=\"https://static-00.iconduck.com/assets.00/facebook-icon-512x512-seb542ju.png\" style=\"width: 20px; vertical-align: middle;\" />\n",
    "\n",
    "  <img src=\"https://upload.wikimedia.org/wikipedia/commons/thumb/e/e7/Instagram_logo_2016.svg/2048px-Instagram_logo_2016.svg.png\" style=\"width: 20px; vertical-align: middle;\" />\n",
    "\n",
    "  <img src=\"https://upload.wikimedia.org/wikipedia/commons/5/57/X_logo_2023_%28white%29.png\" style=\"width: 20px; vertical-align: middle;\" />\n",
    "  @dankornas\n",
    "</p>\n"
   ]
  }
 ],
 "metadata": {
  "kernelspec": {
   "display_name": "Python 3",
   "language": "python",
   "name": "python3"
  },
  "language_info": {
   "codemirror_mode": {
    "name": "ipython",
    "version": 3
   },
   "file_extension": ".py",
   "mimetype": "text/x-python",
   "name": "python",
   "nbconvert_exporter": "python",
   "pygments_lexer": "ipython3",
   "version": "3.11.2"
  }
 },
 "nbformat": 4,
 "nbformat_minor": 2
}
